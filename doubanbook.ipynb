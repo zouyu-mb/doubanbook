{
 "cells": [
  {
   "cell_type": "code",
   "execution_count": 20,
   "metadata": {},
   "outputs": [
    {
     "name": "stdout",
     "output_type": "stream",
     "text": [
      "https://book.douban.com/subject_search?search_text=%E6%B7%B1%E8%93%9D%E7%9A%84%E6%95%85%E4%BA%8B\n"
     ]
    }
   ],
   "source": [
    "#coding=utf-8\n",
    "import urllib.request\n",
    "from urllib.parse import quote\n",
    "import string\n",
    "\n",
    "#quote 打开包含中文的url https://blog.csdn.net/sijiaqi11/article/details/78449770\n",
    "#request 实例 https://www.cnblogs.com/zknublx/p/6274599.html\n",
    "url=\"https://book.douban.com/subject_search?search_text=深蓝的故事\"\n",
    "surl = quote(url,safe=string.printable)\n",
    "\n",
    "#douban=urllib.request.urlopen(\"https://book.douban.com/subject_search?search_text=深蓝的故事\")\n",
    "#douban = urllib.request.urlopen(surl)\n",
    "import ssl\n",
    "import requests\n",
    "session=requests.Session()\n",
    "req = session.get(surl) \n",
    "print(surl)\n"
   ]
  },
  {
   "cell_type": "code",
   "execution_count": 31,
   "metadata": {},
   "outputs": [],
   "source": [
    "\n",
    "from lxml import etree\n",
    "\n",
    "req.encoding = 'utf8' \n",
    "root=etree.HTML(req.content)\n",
    "\n",
    "items = root.xpath('//*[@id=\"root\"]/div/div[2]/div[1]/div[1]/div[2]/div/div/div[1]/a')\n",
    "for item in items:\n",
    "    print(items.attrib)"
   ]
  },
  {
   "cell_type": "code",
   "execution_count": null,
   "metadata": {},
   "outputs": [],
   "source": []
  }
 ],
 "metadata": {
  "kernelspec": {
   "display_name": "Python 3",
   "language": "python",
   "name": "python3"
  },
  "language_info": {
   "codemirror_mode": {
    "name": "ipython",
    "version": 3
   },
   "file_extension": ".py",
   "mimetype": "text/x-python",
   "name": "python",
   "nbconvert_exporter": "python",
   "pygments_lexer": "ipython3",
   "version": "3.7.0"
  }
 },
 "nbformat": 4,
 "nbformat_minor": 2
}
