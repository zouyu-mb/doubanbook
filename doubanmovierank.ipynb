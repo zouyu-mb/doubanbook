{
 "cells": [
  {
   "cell_type": "code",
   "execution_count": null,
   "metadata": {},
   "outputs": [],
   "source": [
    "#coding:utf-8\n",
    " \n",
    "import urllib\n",
    "import requests\n",
    "import re\n",
    "from bs4 import BeautifulSoup"
   ]
  },
  {
   "cell_type": "code",
   "execution_count": null,
   "metadata": {},
   "outputs": [],
   "source": [
    " \n",
    "# 读取用户输入的电影名，并转换为url编码\n",
    "tip = u'请输入电影名：'\n",
    "tip = tip.encode('gbk')\n",
    "movie_name = '美人鱼'#input(tip)\n",
    "movie_name = movie_name.decode('gbk').encode('utf-8')\n",
    "url_head = 'http://movie.douban.com/subject_search'\n",
    " \n",
    "# 发送请求拿到HTML内容\n",
    "payload = {'search_text': movie_name}\n",
    "r = requests.get(url_head, params=payload)\n",
    "print(r)"
   ]
  },
  {
   "cell_type": "code",
   "execution_count": null,
   "metadata": {},
   "outputs": [],
   "source": [
    " \n",
    "# 用bs解析HTML内容\n",
    "soup = BeautifulSoup(r.text, 'html.parser')\n",
    " \n",
    "nameList = soup.select('.pl2 > a')\n",
    "scoreList = soup.find_all(class_='rating_nums')\n",
    "detailList = soup.select('.pl2 > p')\n",
    " \n",
    "print('-------------------------------')\n",
    " \n",
    "# 分别是电影名、评分、简介\n",
    "name_num = len(nameList)\n",
    "score_num = len(scoreList)\n",
    "detail_num = len(detailList)"
   ]
  },
  {
   "cell_type": "code",
   "execution_count": null,
   "metadata": {},
   "outputs": [],
   "source": [
    "for i in range(name_num):\n",
    "    name = re.sub(r' ', '', nameList[i].get_text())\n",
    "    score = ''\n",
    "    detail = ''\n",
    "    if i < score_num:\n",
    "        score = scoreList[i].get_text()\n",
    "    if i < detail_num:\n",
    "        detail = detailList[i].get_text()\n",
    "    print(name)\n",
    "    if not score == '':\n",
    "        print(u'评分：【' + str(score) + u'】\\n')\n",
    "    if not detail == '':\n",
    "        print(u'简介：'.encode('gbk') + detail.encode('gbk', 'ignore'))\n",
    "    print('-------------------------------')"
   ]
  },
  {
   "cell_type": "code",
   "execution_count": null,
   "metadata": {},
   "outputs": [],
   "source": []
  }
 ],
 "metadata": {
  "kernelspec": {
   "display_name": "Python 3",
   "language": "python",
   "name": "python3"
  },
  "language_info": {
   "codemirror_mode": {
    "name": "ipython",
    "version": 3
   },
   "file_extension": ".py",
   "mimetype": "text/x-python",
   "name": "python",
   "nbconvert_exporter": "python",
   "pygments_lexer": "ipython3",
   "version": "3.7.0"
  }
 },
 "nbformat": 4,
 "nbformat_minor": 2
}
