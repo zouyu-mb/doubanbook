{
 "cells": [
  {
   "cell_type": "code",
   "execution_count": 2,
   "metadata": {},
   "outputs": [],
   "source": [
    "#coding:utf-8\n",
    "import urllib.request\n",
    "from selenium import webdriver\n",
    "from PIL import Image\n",
    "import re\n",
    "import time\n",
    " \n",
    " "
   ]
  },
  {
   "cell_type": "code",
   "execution_count": null,
   "metadata": {},
   "outputs": [],
   "source": [
    " \n",
    "url = 'http://accounts.douban.com/login'\n",
    "email = ''#input('E-mail:')\n",
    "password ='' #input('Password:')\n",
    " \n",
    "    "
   ]
  },
  {
   "cell_type": "code",
   "execution_count": null,
   "metadata": {},
   "outputs": [],
   "source": [
    "browser = webdriver.PhantomJS()\n",
    "browser.get(url)\n",
    " \n",
    "#get page source\n",
    "#page_source = browser.page_source\n",
    " \n",
    "#send account key\n",
    "print('writing username and password...')\n",
    "browser.find_element_by_name('form_email').send_keys(email)\n",
    "browser.find_element_by_name('form_password').send_keys(password)"
   ]
  },
  {
   "cell_type": "code",
   "execution_count": null,
   "metadata": {},
   "outputs": [],
   "source": [
    " \n",
    "#get captcha link and save to local\n",
    "print('saving captcha image...')\n",
    "captcha_link = browser.find_element_by_id('captcha_image').get_attribute('src')\n",
    "urllib.request.urlretrieve(captcha_link,'captcha.jpg')\n",
    "Image.open('captcha.jpg').show()\n",
    "captcha_code = input('Pls input captcha code:')\n",
    "browser.find_element_by_id('captcha_field').send_keys(captcha_code)\n",
    " \n",
    "print('login...')\n",
    "browser.find_element_by_name('login').click()\n",
    "time.sleep(3)"
   ]
  },
  {
   "cell_type": "code",
   "execution_count": null,
   "metadata": {},
   "outputs": [],
   "source": [
    " \n",
    "if browser.current_url == 'https://www.douban.com/':\n",
    "\tprint('login success!')\n",
    "\tprint('Now jump to %s ...' % browser.current_url)\n",
    "else:\n",
    "\tprint('login error!')\n",
    "\tquit()\n",
    " \n",
    "# visit book tag url and get page source\n",
    "book_tag_url = 'https://book.douban.com/tag/'\n",
    "browser.get(book_tag_url)\n",
    "page_source = browser.page_source\n",
    " \n",
    "reg_tag = r'href=\\\"/tag/(.*?)\\\"'\n",
    "tag_list = re.findall(reg_tag, page_source)\n",
    "print(tag_list)\n",
    " \n",
    "browser.quit()"
   ]
  }
 ],
 "metadata": {
  "kernelspec": {
   "display_name": "Python 3",
   "language": "python",
   "name": "python3"
  },
  "language_info": {
   "codemirror_mode": {
    "name": "ipython",
    "version": 3
   },
   "file_extension": ".py",
   "mimetype": "text/x-python",
   "name": "python",
   "nbconvert_exporter": "python",
   "pygments_lexer": "ipython3",
   "version": "3.7.0"
  }
 },
 "nbformat": 4,
 "nbformat_minor": 2
}
